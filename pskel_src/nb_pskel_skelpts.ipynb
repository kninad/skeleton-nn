{
 "cells": [
  {
   "cell_type": "code",
   "execution_count": null,
   "metadata": {},
   "outputs": [],
   "source": [
    "import os\n",
    "import sys\n",
    "import json\n",
    "import torch\n",
    "from torch.utils.data import Dataset, DataLoader\n",
    "from tqdm import tqdm"
   ]
  },
  {
   "cell_type": "code",
   "execution_count": null,
   "metadata": {},
   "outputs": [],
   "source": [
    "sys.path.insert(0, '../')\n",
    "import utils.misc as workspace\n",
    "from SkelPointNet import SkelPointNet \n",
    "from DataUtil import PCDataset, EllipsoidPcDataset\n",
    "import FileRW as rw\n",
    "import DistFunc as DF\n",
    "import EvalUtil"
   ]
  },
  {
   "cell_type": "code",
   "execution_count": null,
   "metadata": {},
   "outputs": [],
   "source": [
    "EXP_NAME = \"abexp_16\"\n",
    "experiment_dir = os.path.join(\"../experiments/\", EXP_NAME)\n",
    "split_file = 'val_split.txt'\n",
    "checkpoint = 'latest'\n",
    "\n",
    "with open(os.path.join(experiment_dir, \"specs.json\"), \"r\") as f:\n",
    "    specs = json.load(f)"
   ]
  },
  {
   "cell_type": "code",
   "execution_count": null,
   "metadata": {},
   "outputs": [],
   "source": [
    "data_dir = specs[\"DataSource\"]\n",
    "point_num = specs[\"InputPointNum\"]\n",
    "skelpoint_num = specs[\"SkelPointNum\"]\n",
    "to_normalize = specs[\"Normalize\"]\n",
    "\n",
    "flag_sup = True  # supervision\n",
    "flags_vec = specs.get(\"FlagsVec\", [])\n",
    "if not flags_vec:\n",
    "    flags_vec = [0] * 4\n",
    "flags_boolvec = [x==1 for x in flags_vec]\n",
    "flag_spread, flag_radius, flag_medial, flag_spoke = flags_boolvec\n",
    "print(f\"FlagVec: {flags_vec}\")\n",
    "print(f\"FLAGS: {flag_spread}, {flag_radius}, {flag_medial}, {flag_spoke}!!!\")\n",
    "\n",
    "# Assume Training/Test split file (given as cmd line arg) will be present in the experiment dir\n",
    "pc_list_file = os.path.join(experiment_dir, split_file)\n",
    "gpu = \"0\"\n",
    "\n",
    "model_skel = SkelPointNet(\n",
    "    num_skel_points=skelpoint_num,\n",
    "    input_channels=0,\n",
    "    use_xyz=True,\n",
    "    flag_supervision=flag_sup,\n",
    "    flag_spread=flag_spread,\n",
    "    flag_radius=flag_radius,\n",
    "    flag_medial=flag_medial,\n",
    "    flag_spoke=flag_spoke\n",
    ")\n",
    "\n",
    "if torch.cuda.is_available():\n",
    "    os.environ[\"CUDA_VISIBLE_DEVICES\"] = gpu\n",
    "    print(\"GPU Number:\", torch.cuda.device_count(), \"GPUs!\")\n",
    "    model_skel.cuda()\n",
    "    model_skel.eval()\n",
    "\n",
    "# Load the saved model\n",
    "model_epoch = workspace.load_model_checkpoint(\n",
    "    experiment_dir, checkpoint, model_skel\n",
    ")\n",
    "print(f\"Evaluating model on using checkpoint={checkpoint} and epoch={model_epoch}.\")"
   ]
  },
  {
   "cell_type": "code",
   "execution_count": null,
   "metadata": {},
   "outputs": [],
   "source": [
    "# load data and evaluate\n",
    "pc_list = rw.load_data_id(pc_list_file)\n",
    "label_list = rw.load_label_id(pc_list_file)\n",
    "label_dir = \"../data/ellipsoid_data_5000/pointcloud_srep/\"\n",
    "\n",
    "eval_data = EllipsoidPcDataset(\n",
    "    pc_list, label_list, \n",
    "    data_dir, label_dir,\n",
    "    point_num, to_normalize\n",
    "    )"
   ]
  },
  {
   "cell_type": "code",
   "execution_count": null,
   "metadata": {},
   "outputs": [],
   "source": [
    "EvalUtil.test_results(experiment_dir, eval_data, model_skel, save_results=True, srep_res=False)"
   ]
  },
  {
   "cell_type": "code",
   "execution_count": null,
   "metadata": {},
   "outputs": [],
   "source": []
  }
 ],
 "metadata": {
  "kernelspec": {
   "display_name": "Python 3.9.12 ('pskel')",
   "language": "python",
   "name": "python3"
  },
  "language_info": {
   "codemirror_mode": {
    "name": "ipython",
    "version": 3
   },
   "file_extension": ".py",
   "mimetype": "text/x-python",
   "name": "python",
   "nbconvert_exporter": "python",
   "pygments_lexer": "ipython3",
   "version": "3.9.12"
  },
  "orig_nbformat": 4,
  "vscode": {
   "interpreter": {
    "hash": "f698cd4174c965919b3de2257892c70c2ba2f080fdf4a93124a46aa180827522"
   }
  }
 },
 "nbformat": 4,
 "nbformat_minor": 2
}
