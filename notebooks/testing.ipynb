{
 "cells": [
  {
   "cell_type": "code",
   "execution_count": null,
   "metadata": {},
   "outputs": [],
   "source": [
    "import os, time, pickle, sys, argparse, json\n",
    "\n",
    "import imageio\n",
    "from skimage import img_as_ubyte\n",
    "import numpy as np\n",
    "import torch \n",
    "import torch.nn as nn\n",
    "import torch.optim\n",
    "from torch.utils.data import DataLoader, Subset\n",
    "from tqdm import tqdm"
   ]
  },
  {
   "cell_type": "code",
   "execution_count": null,
   "metadata": {},
   "outputs": [],
   "source": [
    "sys.path.insert(0, \"../\")\n",
    "from models import Unet2D_simple as Unet2D\n",
    "from utils.data import Skel2dDataset, sk_loader"
   ]
  },
  {
   "cell_type": "code",
   "execution_count": null,
   "metadata": {},
   "outputs": [],
   "source": [
    "def sk_loader_test(im_root, gt_root, batch_size=4, shuffle=True, num_worker=2, pin_memory=False, num_debug=10):\n",
    "    dataset = Skel2dDataset(im_root, gt_root)\n",
    "    N = len(dataset)\n",
    "    subset_ds = Subset(dataset, np.arange(N-num_debug-1, N))\n",
    "    data_loader = DataLoader(dataset=subset_ds,\n",
    "                            batch_size=batch_size,\n",
    "                            shuffle=shuffle,\n",
    "                            num_workers=num_worker,\n",
    "                            pin_memory=pin_memory)\n",
    "    return data_loader\n"
   ]
  },
  {
   "cell_type": "code",
   "execution_count": null,
   "metadata": {},
   "outputs": [],
   "source": [
    "train_data_dir = \"../data/train/\"\n",
    "trn_img_dir = os.path.join(train_data_dir, \"images\")\n",
    "trn_lab_dir = os.path.join(train_data_dir, \"labels\")\n",
    "\n",
    "# tst_loader = sk_loader_test(trn_img_dir, trn_lab_dir, batch_size=1)\n",
    "tst_loader = sk_loader(trn_img_dir, trn_lab_dir, batch_size=1, debug=True)"
   ]
  },
  {
   "cell_type": "code",
   "execution_count": null,
   "metadata": {},
   "outputs": [],
   "source": [
    "model_path = \"../experiments/model_debug_50.pth\"\n",
    "model = Unet2D(channels=1, num_class=1)\n",
    "model.cuda()\n",
    "model.load_state_dict(torch.load(model_path))"
   ]
  },
  {
   "cell_type": "code",
   "execution_count": null,
   "metadata": {},
   "outputs": [],
   "source": [
    "test_image_savepath = \"../experiments/test/\"\n",
    "if not os.path.isdir(test_image_savepath):\n",
    "    os.makedirs(test_image_savepath)"
   ]
  },
  {
   "cell_type": "code",
   "execution_count": null,
   "metadata": {},
   "outputs": [],
   "source": [
    "model.eval()\n",
    "for i, data in enumerate(tst_loader):\n",
    "    img = data['image'].cuda()\n",
    "    lab = data['mask'].cuda()\n",
    "    name = data['name']\n",
    "    outimg_f = os.path.join(test_image_savepath, f\"logits_testout_{name}.png\")\n",
    "    with torch.no_grad():\n",
    "        inp_logits = model(img)\n",
    "        # print(inp_logits.shape)\n",
    "        output = torch.sigmoid(inp_logits).data.cpu().numpy().squeeze()\n",
    "        # output = inp_logits.data.cpu().numpy().squeeze()\n",
    "        # print(output.shape)\n",
    "    imageio.imsave(outimg_f, img_as_ubyte(output))\n",
    "    "
   ]
  },
  {
   "cell_type": "code",
   "execution_count": null,
   "metadata": {},
   "outputs": [],
   "source": []
  },
  {
   "cell_type": "code",
   "execution_count": null,
   "metadata": {},
   "outputs": [],
   "source": []
  }
 ],
 "metadata": {
  "interpreter": {
   "hash": "8fef6a198e33fcb334b5590c96b5715fa75ad5ed3ad5361c5db0e5692e5efc11"
  },
  "kernelspec": {
   "display_name": "Python 3.8.13 ('dlunet')",
   "language": "python",
   "name": "python3"
  },
  "language_info": {
   "codemirror_mode": {
    "name": "ipython",
    "version": 3
   },
   "file_extension": ".py",
   "mimetype": "text/x-python",
   "name": "python",
   "nbconvert_exporter": "python",
   "pygments_lexer": "ipython3",
   "version": "3.8.13"
  },
  "orig_nbformat": 4
 },
 "nbformat": 4,
 "nbformat_minor": 2
}
